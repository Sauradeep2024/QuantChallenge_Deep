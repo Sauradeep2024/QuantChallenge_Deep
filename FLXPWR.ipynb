{
 "cells": [
  {
   "cell_type": "markdown",
   "id": "ff8f8aa7",
   "metadata": {},
   "source": [
    "#TASK 1.1\n",
    "Write a function that computes the total buy volume for flex power, another that computes the total sell volume."
   ]
  },
  {
   "cell_type": "code",
   "execution_count": 3,
   "id": "26ad6d99",
   "metadata": {},
   "outputs": [],
   "source": [
    "def compute_total_buy_volume(sql_database):\n",
    "    import sqlite3\n",
    "    import pandas as pd\n",
    "    with sqlite3.connect(sql_database) as conn:\n",
    "        df = pd.read_sql_query(\"SELECT * FROM epex_12_20_12_13\", conn)\n",
    "    total_buy_volume = df[df['side'] == 'buy']['quantity'].sum()\n",
    "    print(\"Total Buy Volume:\", total_buy_volume)\n",
    "\n",
    "def compute_total_sell_volume(sql_database):\n",
    "    import sqlite3\n",
    "    import pandas as pd\n",
    "    with sqlite3.connect(sql_database) as conn:\n",
    "        df = pd.read_sql_query(\"SELECT * FROM epex_12_20_12_13\", conn)\n",
    "    total_sell_volume = df[df['side'] == 'sell']['quantity'].sum()\n",
    "    print(\"Total Sell Volume:\", total_sell_volume)\n"
   ]
  },
  {
   "cell_type": "code",
   "execution_count": 5,
   "id": "1694fad5",
   "metadata": {},
   "outputs": [
    {
     "name": "stdout",
     "output_type": "stream",
     "text": [
      "Total Buy Volume: 28\n",
      "Total Sell Volume: 53\n"
     ]
    }
   ],
   "source": [
    "compute_total_buy_volume(\"trades.sqlite\")\n",
    "compute_total_sell_volume(\"trades.sqlite\")"
   ]
  },
  {
   "cell_type": "markdown",
   "id": "45f1eec3",
   "metadata": {},
   "source": [
    "#Task 1.2:\n",
    "Write a function that computes the PnL (profit and loss) of each strategy in euros. It's defined as the sum of the incomes realized with each trade.\n",
    "\n",
    "If we sell energy, our income is quantity * price since we got money for our electricity. If we buy energy, our income is -quantity * price."
   ]
  },
  {
   "cell_type": "code",
   "execution_count": 10,
   "id": "273f79cb",
   "metadata": {},
   "outputs": [],
   "source": [
    "def compute_pnl(strategy, sql_database):\n",
    "    from datetime import datetime, timezone\n",
    "    import sqlite3\n",
    "    import pandas as pd\n",
    "\n",
    "    with sqlite3.connect(sql_database) as conn:\n",
    "        df = pd.read_sql_query(\"SELECT * FROM epex_12_20_12_13\", conn)\n",
    "\n",
    "\n",
    "    # Filter trades by strategy\n",
    "    df = df[df['strategy'] == strategy]\n",
    "\n",
    "    if df.empty:\n",
    "        print(f\"No trades found for {strategy}\")\n",
    "        return 0.0\n",
    "    \n",
    "    df['income'] = df.apply(\n",
    "        lambda row: row['quantity'] * row['price'] if row['side'] == 'sell'\n",
    "        else -row['quantity'] * row['price'], axis=1\n",
    "    )\n",
    "\n",
    "    # Compute total PnL\n",
    "    total_pnl = float(df['income'].sum())\n",
    "\n",
    "    return {\n",
    "        \"strategy\":     strategy,\n",
    "        \"value\":        total_pnl,\n",
    "        \"unit\":         \"euro\",\n",
    "        \"capture_time\": datetime.now(timezone.utc).isoformat() + \"Z\"\n",
    "    }\n",
    "\n"
   ]
  },
  {
   "cell_type": "code",
   "execution_count": 11,
   "id": "fa6cd487",
   "metadata": {},
   "outputs": [
    {
     "data": {
      "text/plain": [
       "{'strategy': 'strategy_1',\n",
       " 'value': -50.0,\n",
       " 'unit': 'euro',\n",
       " 'capture_time': '2025-04-23T13:48:26.546491+00:00Z'}"
      ]
     },
     "execution_count": 11,
     "metadata": {},
     "output_type": "execute_result"
    }
   ],
   "source": [
    "compute_pnl(\"strategy_1\", \"trades.sqlite\")"
   ]
  },
  {
   "cell_type": "markdown",
   "id": "f0e226f7",
   "metadata": {},
   "source": [
    "Task 1.3:\n",
    "Expose the function defined in the second task as an entrypoint of a web application."
   ]
  },
  {
   "cell_type": "code",
   "execution_count": null,
   "id": "e47bda69",
   "metadata": {},
   "outputs": [],
   "source": []
  }
 ],
 "metadata": {
  "kernelspec": {
   "display_name": "FLX_PWR_Challenge",
   "language": "python",
   "name": "python3"
  },
  "language_info": {
   "codemirror_mode": {
    "name": "ipython",
    "version": 3
   },
   "file_extension": ".py",
   "mimetype": "text/x-python",
   "name": "python",
   "nbconvert_exporter": "python",
   "pygments_lexer": "ipython3",
   "version": "3.11.11"
  }
 },
 "nbformat": 4,
 "nbformat_minor": 5
}
